{
 "cells": [
  {
   "cell_type": "code",
   "execution_count": null,
   "id": "873b95ed",
   "metadata": {},
   "outputs": [],
   "source": [
    "def mean(c):\n",
    "    total=0\n",
    "    for i in c:\n",
    "        total += i\n",
    "    mean= total/len(c)\n",
    "    return mean\n",
    "def median(c):\n",
    "    c.sort()\n",
    "    if len(c)%2 !=0:\n",
    "        median= c[(int(len(c)/2))]\n",
    "    else:\n",
    "        median = c[(int(len(c)/2))-1] + c[int(len(c)/2)]\n",
    "        median= median/2\n",
    "    return median\n",
    "def mode(c):\n",
    "    counter=0\n",
    "    num=c[0]\n",
    "    for i in c:\n",
    "        result=c.count(i)\n",
    "        if(result>counter):\n",
    "            counter= result\n",
    "            num=1\n",
    "        if len(set(c)) ==len(c):\n",
    "            return \"no mode\"\n",
    "    return num\n",
    "num=[]\n",
    "\n",
    "while(True):\n",
    "    number= input('enter the number and write \"stop\" to end:')\n",
    "    if number =='stop':\n",
    "        break\n",
    "    num.append(int(number))\n",
    "mean=str(mean(num))\n",
    "median=str(median(num))\n",
    "mode=str(mode(num))\n",
    "\n",
    "print('mean:'+mean+'\\n'+'median:'+median+'\\n'+'mode:'+mode)"
   ]
  },
  {
   "cell_type": "markdown",
   "id": "5bae9fa6",
   "metadata": {},
   "source": []
  }
 ],
 "metadata": {
  "kernelspec": {
   "display_name": "Python 3 (ipykernel)",
   "language": "python",
   "name": "python3"
  },
  "language_info": {
   "codemirror_mode": {
    "name": "ipython",
    "version": 3
   },
   "file_extension": ".py",
   "mimetype": "text/x-python",
   "name": "python",
   "nbconvert_exporter": "python",
   "pygments_lexer": "ipython3",
   "version": "3.10.9"
  }
 },
 "nbformat": 4,
 "nbformat_minor": 5
}
